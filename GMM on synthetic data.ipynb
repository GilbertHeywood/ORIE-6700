{
 "cells": [
  {
   "cell_type": "markdown",
   "metadata": {
    "collapsed": true
   },
   "source": [
    "## GMM on synthetic data\n",
    "The first step is to load the data from the \"synthetic_data.csv\" to a numpy array."
   ]
  },
  {
   "cell_type": "code",
   "execution_count": 1,
   "metadata": {},
   "outputs": [
    {
     "name": "stdout",
     "output_type": "stream",
     "text": [
      "(200, 2)\n"
     ]
    }
   ],
   "source": [
    "import numpy as np\n",
    "import matplotlib.pyplot as plt\n",
    "np.random.seed(3)\n",
    "\n",
    "X = np.genfromtxt(\"synthetic_data.csv\", delimiter=',')\n",
    "print(X.shape)\n",
    "\n",
    "n = X.shape[0]\n",
    "p = X.shape[1]"
   ]
  },
  {
   "cell_type": "markdown",
   "metadata": {},
   "source": [
    "We first take a look at how the data look like."
   ]
  },
  {
   "cell_type": "code",
   "execution_count": 2,
   "metadata": {},
   "outputs": [
    {
     "data": {
      "text/plain": [
       "[]"
      ]
     },
     "execution_count": 2,
     "metadata": {},
     "output_type": "execute_result"
    },
    {
     "data": {
      "image/png": "[encoded data removed]",
      "text/plain": [
       "<Figure size 432x288 with 1 Axes>"
      ]
     },
     "metadata": {
      "needs_background": "light"
     },
     "output_type": "display_data"
    }
   ],
   "source": [
    "plt.scatter(X[:, 0], X[:, 1], color='navy', s=30)\n",
    "plt.plot()"
   ]
  },
  {
   "cell_type": "markdown",
   "metadata": {},
   "source": [
    "There are roughly 3 clusters.\n",
    "\n",
    "$\\lambda_i$ are initialized uniformly. Each is $\\frac{1}{3}$.\n",
    "\n",
    "$\\mu_i$ are initialized with 3 samples randomly selected from $X$.\n",
    "\n",
    "$\\sigma^2_i$ are uniformly sampled from $(1., 2.)$."
   ]
  },
  {
   "cell_type": "code",
   "execution_count": 3,
   "metadata": {},
   "outputs": [
    {
     "name": "stdout",
     "output_type": "stream",
     "text": [
      "[0.33333333 0.33333333 0.33333333]\n",
      "[[36.534    0.46896]\n",
      " [-1.9612   0.40852]\n",
      " [ 3.6098  -0.58749]]\n",
      "[1.29090474 1.51082761 1.89294695]\n"
     ]
    }
   ],
   "source": [
    "k = 3\n",
    "lambdas = np.ones((k))/k\n",
    "mus = X[np.random.choice(n, k), :]\n",
    "#mus = np.array([[1., 1.], [1., 21.], [41, 1]])\n",
    "sigma2s = np.random.random_sample(k) + 1. # initial variance cannot be too small\n",
    "\n",
    "print(lambdas)\n",
    "print(mus)\n",
    "print(sigma2s)"
   ]
  },
  {
   "cell_type": "markdown",
   "metadata": {},
   "source": [
    "Furthermore, we define a pdf function here to calculate the likelihood."
   ]
  },
  {
   "cell_type": "code",
   "execution_count": 4,
   "metadata": {},
   "outputs": [],
   "source": [
    "def log_pdf(X, mean, variance):\n",
    "    n = len(X)\n",
    "    log_pdf_list = []\n",
    "    for i in range(n):\n",
    "        log_pdf = np.log(1. / (2. * np.pi * variance)**(p/2)) - 1./(2.*variance) * np.matmul((X[i]-mean).T, X[i]-mean)\n",
    "        log_pdf_list.append(log_pdf)\n",
    "    return np.array(log_pdf_list)"
   ]
  },
  {
   "cell_type": "markdown",
   "metadata": {},
   "source": [
    "Now we start to fit the Gaussian Mixture Model (GMM):\n",
    "\n",
    "### Expectation Step\n",
    "\n",
    "Compute $P_i(z_i=j|X_i, \\theta^{t-1})=\\frac{\\lambda_j^{t-1}N(X_i;\\mu_j^{t-1}, (\\sigma_j^{t-1})^2)}{\\sum_{k=1}^3\\lambda_k^{t-1}N(X_i;\\mu_k^{t-1}, (\\sigma_k^{t-1})^2)}=p_i^{t-1}(j)$\n",
    "\n",
    "### Likelihood for step t-1\n",
    "\n",
    "$\\ell(\\theta^{t-1};X)=L(P(Z|X,\\theta^{t-1}), \\theta^{t-1})=\\sum_{i=1}^n\\sum_{z_i=1}^3 P(z_i|X_i, \\theta^{t-1}) \\log \\frac{P(X_i, z_i|\\theta^{t-1})}{P(z_i|X_i, \\theta^{t-1})}=\\sum_{i=1}^n\\sum_{j=1}^3 p^{t-1}_i(j)\\log \\frac{P(X_i, z_i=j|\\theta^{t-1})}{p^{t-1}_i(j)}=$\n",
    "$\\sum_{i=1}^n \\log P(X_i|\\theta^{t-1})=\\sum_{i=1}^n \\log \\sum_{j=1}^3 P(X_i, z_i=j|\\theta^{t-1})$\n",
    "\n",
    "### Maximization Step\n",
    "\n",
    "$\\hat{\\mu}_j=\\frac{\\sum_{i=1}^n p_i^{t-1}(j)X_i}{\\sum_{i=1}^n p_i^{t-1}(j)}$\n",
    "\n",
    "$\\hat{\\sigma}_j^2=\\frac{\\sum_{i=1}^n p_i^{t-1}(j)(X_i-\\hat{\\mu}_j)^T(X_i-\\hat{\\mu}_j)}{p\\sum_{i=1}^n p_i^{t-1}(j)}$"
   ]
  },
  {
   "cell_type": "code",
   "execution_count": 5,
   "metadata": {},
   "outputs": [
    {
     "name": "stdout",
     "output_type": "stream",
     "text": [
      "[0.465      0.23511143 0.29988857]\n",
      "[[ 3.94879032e+01 -8.13269892e-03]\n",
      " [-2.48645076e-01  6.95416193e-01]\n",
      " [-3.89466458e-01  1.96661524e+01]]\n",
      "[15.60755057  8.07141536  9.93070367]\n"
     ]
    }
   ],
   "source": [
    "eps = 1e-6\n",
    "log_likelihoods = []\n",
    "est_errors = []\n",
    "\n",
    "lambda1 = 0.2\n",
    "lambda2 = 0.3\n",
    "mu1 = np.array([0, 0.])\n",
    "mu2 = np.array([0, 20.])\n",
    "mu3 = np.array([40., 0])\n",
    "sigma1 = 10\n",
    "sigma2 = 10\n",
    "sigma3 = 15\n",
    "\n",
    "clusters = np.zeros(n, dtype=int)\n",
    "\n",
    "for step in range(30):\n",
    "    # Expectation step (p_i^{t-1}(j)): \n",
    "    ## sub-step 1: Compute N(X_i;\\mu_j^{t-1}, (\\sigma_j^{t-1})^2) for each X_i. (likelihood)\n",
    "    log_lld = []\n",
    "    for j in range(k):\n",
    "        log_lld.append(log_pdf(X, mus[j], sigma2s[j]))\n",
    "    log_lld = np.array(log_lld)\n",
    "    max_log_lld = np.amax(log_lld, axis=0)\n",
    "    ## sub-step 2: Compute p_i^{t-1}(j)\n",
    "    p_ij = np.zeros((n, k), dtype=np.float32)\n",
    "    for i in range(n):\n",
    "        norm_term = 0.\n",
    "        for j in range(k):\n",
    "            norm_term += lambdas[j] * np.exp(log_lld[j, i]-max_log_lld[i])\n",
    "        for j in range(k):\n",
    "            p_ij[i, j] = lambdas[j] * np.exp(log_lld[j, i]-max_log_lld[i]) / norm_term\n",
    "        clusters[i] = np.argmax(p_ij[i, :])\n",
    "    \n",
    "    # log-Likelihood\n",
    "    lld = 0.\n",
    "    for i in range(n):\n",
    "        norm_term = 0.\n",
    "        for j in range(k):\n",
    "            norm_term += lambdas[j] * np.exp(log_lld[j, i]-max_log_lld[i])\n",
    "        lld += np.log(norm_term) + max_log_lld[i]\n",
    "    log_likelihoods.append([step-1, lld])\n",
    "    \n",
    "    # estimation error\n",
    "    est_err = 0.\n",
    "    min_lambda_err = 1e8\n",
    "    min_mu_sigma_err = 1e8\n",
    "    # enumerate possible lambda matching\n",
    "    for i in range(2):\n",
    "        for j in range(2):\n",
    "            if i != j:\n",
    "                err = (lambdas[i]-lambda1)**2 + (lambdas[j]-lambda2)**2\n",
    "                if err < min_lambda_err:\n",
    "                    min_lambda_err = err\n",
    "    est_err += min_lambda_err\n",
    "    # enumerate possible mu matching\n",
    "    for i in range(3):\n",
    "        for j in range(3):\n",
    "            if i != j:\n",
    "                for w in range(3):\n",
    "                    if w != i and w != j:\n",
    "                        err = np.matmul((mus[i]-mu1).T, mus[i]-mu1) + np.matmul((mus[j]-mu2).T, mus[j]-mu2) + np.matmul((mus[w]-mu3).T, mus[w]-mu3) + \\\n",
    "                            (sigma2s[i]-sigma1)**2 + (sigma2s[j]-sigma2)**2 + (sigma2s[w]-sigma3)**2\n",
    "                        if err < min_mu_sigma_err:\n",
    "                            min_mu_sigma_err = err\n",
    "    est_err += min_mu_sigma_err\n",
    "    est_errors.append([step-1, est_err])\n",
    "    \n",
    "    # Maximization step (Update \\lambda_j, \\mu_j, \\sigma^2_j)\n",
    "    for j in range(k):\n",
    "        # update \\lambda's\n",
    "        sum_weight = 0.\n",
    "        for i in range(n):\n",
    "            sum_weight += p_ij[i, j]\n",
    "        lambdas[j] = sum_weight / n\n",
    "        \n",
    "        # update means\n",
    "        sum_weighted_mean = np.zeros(p)\n",
    "        for i in range(n):\n",
    "            sum_weighted_mean += p_ij[i, j] * X[i]\n",
    "        mus[j] = sum_weighted_mean / sum_weight\n",
    "        \n",
    "        # update variance\n",
    "        sum_weighted_variance = 0.\n",
    "        for i in range(n):\n",
    "            sum_weighted_variance += p_ij[i, j] * np.matmul((X[i] - mus[j]).T, X[i] - mus[j])\n",
    "        sigma2s[j] = sum_weighted_variance / (sum_weight * p)\n",
    "\n",
    "print(lambdas)\n",
    "print(mus)\n",
    "print(sigma2s)"
   ]
  },
  {
   "cell_type": "markdown",
   "metadata": {},
   "source": [
    "### Plot the clustering results"
   ]
  },
  {
   "cell_type": "code",
   "execution_count": 6,
   "metadata": {},
   "outputs": [
    {
     "data": {
      "text/plain": [
       "[]"
      ]
     },
     "execution_count": 6,
     "metadata": {},
     "output_type": "execute_result"
    },
    {
     "data": {
      "image/png": "[encoded data removed]",
      "text/plain": [
       "<Figure size 432x288 with 1 Axes>"
      ]
     },
     "metadata": {
      "needs_background": "light"
     },
     "output_type": "display_data"
    }
   ],
   "source": [
    "colors = ['red', 'green', 'blue']\n",
    "assigned_colors = []\n",
    "for i in range(n):\n",
    "    assigned_colors.append(colors[clusters[i]])\n",
    "plt.scatter(X[:, 0], X[:, 1], color=assigned_colors, s=30)\n",
    "plt.plot()"
   ]
  },
  {
   "cell_type": "markdown",
   "metadata": {},
   "source": [
    "### Plot log-likelihood vs step, and estimation error vs step"
   ]
  },
  {
   "cell_type": "code",
   "execution_count": 7,
   "metadata": {},
   "outputs": [
    {
     "data": {
      "text/plain": [
       "Text(0.5, 1.0, 'log likelihood')"
      ]
     },
     "execution_count": 7,
     "metadata": {},
     "output_type": "execute_result"
    },
    {
     "data": {
      "image/png": "[encoded data removed]",
      "text/plain": [
       "<Figure size 432x288 with 1 Axes>"
      ]
     },
     "metadata": {
      "needs_background": "light"
     },
     "output_type": "display_data"
    }
   ],
   "source": [
    "log_likelihoods = np.array(log_likelihoods)\n",
    "est_errors = np.array(est_errors)\n",
    "\n",
    "plt.plot(log_likelihoods[:, 0], log_likelihoods[:, 1])\n",
    "plt.title(\"log likelihood\")"
   ]
  },
  {
   "cell_type": "code",
   "execution_count": 8,
   "metadata": {},
   "outputs": [
    {
     "data": {
      "text/plain": [
       "Text(0.5, 1.0, 'estimation error')"
      ]
     },
     "execution_count": 8,
     "metadata": {},
     "output_type": "execute_result"
    },
    {
     "data": {
      "image/png": "[encoded data removed]",
      "text/plain": [
       "<Figure size 432x288 with 1 Axes>"
      ]
     },
     "metadata": {
      "needs_background": "light"
     },
     "output_type": "display_data"
    }
   ],
   "source": [
    "plt.plot(est_errors[:, 0], est_errors[:, 1])\n",
    "plt.title(\"estimation error\")"
   ]
  }
 ],
 "metadata": {
  "kernelspec": {
   "display_name": "Python 3",
   "language": "python",
   "name": "python3"
  },
  "language_info": {
   "codemirror_mode": {
    "name": "ipython",
    "version": 3
   },
   "file_extension": ".py",
   "mimetype": "text/x-python",
   "name": "python",
   "nbconvert_exporter": "python",
   "pygments_lexer": "ipython3",
   "version": "3.7.3"
  }
 },
 "nbformat": 4,
 "nbformat_minor": 2
}
