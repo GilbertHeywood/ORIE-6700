{
 "cells": [
  {
   "cell_type": "markdown",
   "metadata": {
    "collapsed": true
   },
   "source": [
    "## GMM on iris data\n",
    "The first step is to load the data from the \"iris_data.csv\" to a numpy array."
   ]
  },
  {
   "cell_type": "code",
   "execution_count": 1,
   "metadata": {},
   "outputs": [
    {
     "name": "stdout",
     "output_type": "stream",
     "text": [
      "(150, 4)\n"
     ]
    }
   ],
   "source": [
    "import numpy as np\n",
    "import matplotlib.pyplot as plt\n",
    "from sklearn.manifold import TSNE\n",
    "np.random.seed(0)\n",
    "\n",
    "X = np.genfromtxt(\"iris_data.csv\", delimiter=',')\n",
    "print(X.shape)\n",
    "\n",
    "n = X.shape[0]\n",
    "p = X.shape[1]"
   ]
  },
  {
   "cell_type": "markdown",
   "metadata": {},
   "source": [
    "We first take a look at how the data look like using TSNE."
   ]
  },
  {
   "cell_type": "code",
   "execution_count": 2,
   "metadata": {},
   "outputs": [
    {
     "data": {
      "text/plain": [
       "[]"
      ]
     },
     "execution_count": 2,
     "metadata": {},
     "output_type": "execute_result"
    },
    {
     "data": {
      "image/png": "[encoded data removed]",
      "text/plain": [
       "<Figure size 432x288 with 1 Axes>"
      ]
     },
     "metadata": {
      "needs_background": "light"
     },
     "output_type": "display_data"
    }
   ],
   "source": [
    "X_embedded = TSNE(n_components=2).fit_transform(X)\n",
    "plt.scatter(X_embedded[:, 0], X_embedded[:, 1], color='navy', s=30)\n",
    "plt.plot()"
   ]
  },
  {
   "cell_type": "markdown",
   "metadata": {},
   "source": [
    "There are roughly 3 clusters.\n",
    "\n",
    "$\\lambda_i$ are initialized uniformly. Each is $\\frac{1}{3}$.\n",
    "\n",
    "$\\mu_i$ are initialized with 3 samples randomly selected from $X$.\n",
    "\n",
    "$\\sigma^2_i$ are uniformly sampled from $(1., 2.)$."
   ]
  },
  {
   "cell_type": "code",
   "execution_count": 3,
   "metadata": {},
   "outputs": [
    {
     "name": "stdout",
     "output_type": "stream",
     "text": [
      "[0.33333333 0.33333333 0.33333333]\n",
      "[[6.3 3.3 6.  2.5]\n",
      " [5.  2.3 3.3 1. ]\n",
      " [5.8 2.8 5.1 2.4]]\n",
      "[1.72769634 1.74223798 1.30698606]\n"
     ]
    }
   ],
   "source": [
    "k = 3\n",
    "lambdas = np.ones((k))/k\n",
    "mus = X[np.random.choice(n, k), :]\n",
    "#mus = np.array([[1., 1.], [1., 21.], [41, 1]])\n",
    "sigma2s = np.random.random_sample(k) + 1. # initial variance cannot be too small\n",
    "\n",
    "print(lambdas)\n",
    "print(mus)\n",
    "print(sigma2s)"
   ]
  },
  {
   "cell_type": "markdown",
   "metadata": {},
   "source": [
    "Furthermore, we define a pdf function here to calculate the likelihood."
   ]
  },
  {
   "cell_type": "code",
   "execution_count": 4,
   "metadata": {},
   "outputs": [],
   "source": [
    "def log_pdf(X, mean, variance):\n",
    "    n = len(X)\n",
    "    log_pdf_list = []\n",
    "    for i in range(n):\n",
    "        log_pdf = np.log(1. / (2. * np.pi * variance)**(p/2)) - 1./(2.*variance) * np.matmul((X[i]-mean).T, X[i]-mean)\n",
    "        log_pdf_list.append(log_pdf)\n",
    "    return np.array(log_pdf_list)"
   ]
  },
  {
   "cell_type": "markdown",
   "metadata": {},
   "source": [
    "Now we start to fit the Gaussian Mixture Model (GMM):\n",
    "\n",
    "### Expectation Step\n",
    "\n",
    "Compute $P_i(z_i=j|X_i, \\theta^{t-1})=\\frac{\\lambda_j^{t-1}N(X_i;\\mu_j^{t-1}, (\\sigma_j^{t-1})^2)}{\\sum_{k=1}^3\\lambda_k^{t-1}N(X_i;\\mu_k^{t-1}, (\\sigma_k^{t-1})^2)}=p_i^{t-1}(j)$\n",
    "\n",
    "### Likelihood for step t-1\n",
    "\n",
    "$\\ell(\\theta^{t-1};X)=L(P(Z|X,\\theta^{t-1}), \\theta^{t-1})=\\sum_{i=1}^n\\sum_{z_i=1}^3 P(z_i|X_i, \\theta^{t-1}) \\log \\frac{P(X_i, z_i|\\theta^{t-1})}{P(z_i|X_i, \\theta^{t-1})}=\\sum_{i=1}^n\\sum_{j=1}^3 p^{t-1}_i(j)\\log \\frac{P(X_i, z_i=j|\\theta^{t-1})}{p^{t-1}_i(j)}=$\n",
    "$\\sum_{i=1}^n \\log P(X_i|\\theta^{t-1})=\\sum_{i=1}^n \\log \\sum_{j=1}^3 P(X_i, z_i=j|\\theta^{t-1})$\n",
    "\n",
    "### Maximization Step\n",
    "\n",
    "$\\hat{\\mu}_j=\\frac{\\sum_{i=1}^n p_i^{t-1}(j)X_i}{\\sum_{i=1}^n p_i^{t-1}(j)}$\n",
    "\n",
    "$\\hat{\\sigma}_j^2=\\frac{\\sum_{i=1}^n p_i^{t-1}(j)(X_i-\\hat{\\mu}_j)^T(X_i-\\hat{\\mu}_j)}{p\\sum_{i=1}^n p_i^{t-1}(j)}$"
   ]
  },
  {
   "cell_type": "code",
   "execution_count": 5,
   "metadata": {},
   "outputs": [
    {
     "name": "stdout",
     "output_type": "stream",
     "text": [
      "[0.25272308 0.33333333 0.41394358]\n",
      "[[6.84638553 3.0736805  5.73051652 2.07463051]\n",
      " [5.006      3.418      1.464      0.244     ]\n",
      " [5.90521778 2.74886893 4.40261171 1.43262594]]\n",
      "[0.16292631 0.076202   0.16327054]\n"
     ]
    }
   ],
   "source": [
    "eps = 1e-6\n",
    "log_likelihoods = []\n",
    "\n",
    "clusters = np.zeros(n, dtype=int)\n",
    "\n",
    "for step in range(30):\n",
    "    # Expectation step (p_i^{t-1}(j)): \n",
    "    ## sub-step 1: Compute N(X_i;\\mu_j^{t-1}, (\\sigma_j^{t-1})^2) for each X_i. (likelihood)\n",
    "    log_lld = []\n",
    "    for j in range(k):\n",
    "        log_lld.append(log_pdf(X, mus[j], sigma2s[j]))\n",
    "    log_lld = np.array(log_lld)\n",
    "    max_log_lld = np.amax(log_lld, axis=0)\n",
    "    ## sub-step 2: Compute p_i^{t-1}(j)\n",
    "    p_ij = np.zeros((n, k), dtype=np.float32)\n",
    "    for i in range(n):\n",
    "        norm_term = 0.\n",
    "        for j in range(k):\n",
    "            norm_term += lambdas[j] * np.exp(log_lld[j, i]-max_log_lld[i])\n",
    "        for j in range(k):\n",
    "            p_ij[i, j] = lambdas[j] * np.exp(log_lld[j, i]-max_log_lld[i]) / norm_term\n",
    "        clusters[i] = np.argmax(p_ij[i, :])\n",
    "    \n",
    "    # log-Likelihood\n",
    "    lld = 0.\n",
    "    for i in range(n):\n",
    "        norm_term = 0.\n",
    "        for j in range(k):\n",
    "            norm_term += lambdas[j] * np.exp(log_lld[j, i]-max_log_lld[i])\n",
    "        lld += np.log(norm_term) + max_log_lld[i]\n",
    "    log_likelihoods.append([step-1, lld])\n",
    "    \n",
    "    # Maximization step (Update \\lambda_j, \\mu_j, \\sigma^2_j)\n",
    "    for j in range(k):\n",
    "        # update \\lambda's\n",
    "        sum_weight = 0.\n",
    "        for i in range(n):\n",
    "            sum_weight += p_ij[i, j]\n",
    "        lambdas[j] = sum_weight / n\n",
    "        \n",
    "        # update means\n",
    "        sum_weighted_mean = np.zeros(p)\n",
    "        for i in range(n):\n",
    "            sum_weighted_mean += p_ij[i, j] * X[i]\n",
    "        mus[j] = sum_weighted_mean / sum_weight\n",
    "        \n",
    "        # update variance\n",
    "        sum_weighted_variance = 0.\n",
    "        for i in range(n):\n",
    "            sum_weighted_variance += p_ij[i, j] * np.matmul((X[i] - mus[j]).T, X[i] - mus[j])\n",
    "        sigma2s[j] = sum_weighted_variance / (sum_weight * p)\n",
    "\n",
    "print(lambdas)\n",
    "print(mus)\n",
    "print(sigma2s)"
   ]
  },
  {
   "cell_type": "markdown",
   "metadata": {},
   "source": [
    "### Plot the clustering results"
   ]
  },
  {
   "cell_type": "code",
   "execution_count": 6,
   "metadata": {},
   "outputs": [
    {
     "data": {
      "text/plain": [
       "[]"
      ]
     },
     "execution_count": 6,
     "metadata": {},
     "output_type": "execute_result"
    },
    {
     "data": {
      "image/png": "[encoded data removed]",
      "text/plain": [
       "<Figure size 432x288 with 1 Axes>"
      ]
     },
     "metadata": {
      "needs_background": "light"
     },
     "output_type": "display_data"
    }
   ],
   "source": [
    "colors = ['red', 'green', 'blue']\n",
    "assigned_colors = []\n",
    "for i in range(n):\n",
    "    assigned_colors.append(colors[clusters[i]])\n",
    "plt.scatter(X_embedded[:, 0], X_embedded[:, 1], color=assigned_colors, s=30)\n",
    "plt.plot()"
   ]
  },
  {
   "cell_type": "markdown",
   "metadata": {},
   "source": [
    "### Plot log-likelihood vs step"
   ]
  },
  {
   "cell_type": "code",
   "execution_count": 7,
   "metadata": {},
   "outputs": [
    {
     "data": {
      "text/plain": [
       "Text(0.5, 1.0, 'log likelihood')"
      ]
     },
     "execution_count": 7,
     "metadata": {},
     "output_type": "execute_result"
    },
    {
     "data": {
      "image/png": "[encoded data removed]",
      "text/plain": [
       "<Figure size 432x288 with 1 Axes>"
      ]
     },
     "metadata": {
      "needs_background": "light"
     },
     "output_type": "display_data"
    }
   ],
   "source": [
    "log_likelihoods = np.array(log_likelihoods)\n",
    "\n",
    "plt.plot(log_likelihoods[:, 0], log_likelihoods[:, 1])\n",
    "plt.title(\"log likelihood\")"
   ]
  },
  {
   "cell_type": "code",
   "execution_count": 8,
   "metadata": {},
   "outputs": [
    {
     "name": "stdout",
     "output_type": "stream",
     "text": [
      "[1 1 1 1 1 1 1 1 1 1 1 1 1 1 1 1 1 1 1 1 1 1 1 1 1 1 1 1 1 1 1 1 1 1 1 1 1\n",
      " 1 1 1 1 1 1 1 1 1 1 1 1 1 2 2 0 2 2 2 2 2 2 2 2 2 2 2 2 2 2 2 2 2 2 2 2 2\n",
      " 2 2 2 0 2 2 2 2 2 2 2 2 2 2 2 2 2 2 2 2 2 2 2 2 2 2 0 2 0 0 0 0 2 0 0 0 0\n",
      " 0 0 2 2 0 0 0 0 2 0 2 0 2 0 0 2 2 0 0 0 0 0 2 0 0 0 0 2 0 0 0 2 0 0 0 2 0\n",
      " 0 2]\n",
      "Best accuracy: 89.33333333333333 %\n"
     ]
    }
   ],
   "source": [
    "print(clusters)\n",
    "\n",
    "best_acc = 0.\n",
    "for l0 in range(3):\n",
    "    for l1 in range(3):\n",
    "        if l0 != l1:\n",
    "            for l2 in range(3):\n",
    "                if l2 != l0 and l2 != l1:\n",
    "                    acc = 0.\n",
    "                    for i in range(n):\n",
    "                        if i < 50:\n",
    "                            if clusters[i] == l0: acc += 1\n",
    "                        elif i < 100:\n",
    "                            if clusters[i] == l1: acc += 1\n",
    "                        elif i < 150:\n",
    "                            if clusters[i] == l2: acc += 1\n",
    "                    acc /= n\n",
    "                    if acc > best_acc:\n",
    "                        best_acc = acc\n",
    "print(\"Best accuracy: {} %\".format(best_acc * 100))"
   ]
  }
 ],
 "metadata": {
  "kernelspec": {
   "display_name": "Python 3",
   "language": "python",
   "name": "python3"
  },
  "language_info": {
   "codemirror_mode": {
    "name": "ipython",
    "version": 3
   },
   "file_extension": ".py",
   "mimetype": "text/x-python",
   "name": "python",
   "nbconvert_exporter": "python",
   "pygments_lexer": "ipython3",
   "version": "3.7.3"
  }
 },
 "nbformat": 4,
 "nbformat_minor": 2
}
